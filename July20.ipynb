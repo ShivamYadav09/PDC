{
  "nbformat": 4,
  "nbformat_minor": 0,
  "metadata": {
    "colab": {
      "name": "July20.ipynb",
      "provenance": [],
      "authorship_tag": "ABX9TyPmEeJ7RX3oqegepdGpvhtl",
      "include_colab_link": true
    },
    "kernelspec": {
      "name": "python3",
      "display_name": "Python 3"
    }
  },
  "cells": [
    {
      "cell_type": "markdown",
      "metadata": {
        "id": "view-in-github",
        "colab_type": "text"
      },
      "source": [
        "<a href=\"https://colab.research.google.com/github/ShivamYadav09/PDC/blob/master/July20.ipynb\" target=\"_parent\"><img src=\"https://colab.research.google.com/assets/colab-badge.svg\" alt=\"Open In Colab\"/></a>"
      ]
    },
    {
      "cell_type": "code",
      "metadata": {
        "id": "afMw1d2YJEY4",
        "colab_type": "code",
        "colab": {}
      },
      "source": [
        "code = \"\"\"\n",
        "// OpenMP header \n",
        "#include <omp.h>   \n",
        "#include <stdio.h>\n",
        "\n",
        "int main() \n",
        "{     \n",
        "    \n",
        "    double start; \n",
        "    double end; \n",
        "    long sum;\n",
        "    start = omp_get_wtime(); \n",
        "     // Beginning of parallel region \n",
        "    #pragma omp parallel for shared(sum)\n",
        "    { \n",
        "        sum = 0;\n",
        "        for (int i=1; i<=100; i++){\n",
        "          sum += i;\n",
        "        }\n",
        "    } \n",
        "    // Ending of parallel region \n",
        "    printf(\"Sum is = %ld  \", sum);\n",
        "    end = omp_get_wtime();\n",
        "    printf(\"The time elapsed is = %f\",(end - start));\n",
        "}\n",
        "\"\"\""
      ],
      "execution_count": null,
      "outputs": []
    },
    {
      "cell_type": "code",
      "metadata": {
        "id": "Gq6kKLozKrrN",
        "colab_type": "code",
        "colab": {}
      },
      "source": [
        "text_file = open(\"code.c\", \"w\")\n",
        "text_file.write(code)\n",
        "text_file.close()"
      ],
      "execution_count": null,
      "outputs": []
    },
    {
      "cell_type": "code",
      "metadata": {
        "id": "eVeXGMKJKt21",
        "colab_type": "code",
        "colab": {
          "base_uri": "https://localhost:8080/",
          "height": 119
        },
        "outputId": "5d48e0b9-b912-4f7b-eb66-ac8141d3b67d"
      },
      "source": [
        "%env OMP_NUM_THREADS=4\n",
        "!gcc -o hello -fopenmp code.c\n",
        "!./hello"
      ],
      "execution_count": null,
      "outputs": [
        {
          "output_type": "stream",
          "text": [
            "env: OMP_NUM_THREADS=4\n",
            "\u001b[01m\u001b[Kcode.c:\u001b[m\u001b[K In function ‘\u001b[01m\u001b[Kmain\u001b[m\u001b[K’:\n",
            "\u001b[01m\u001b[Kcode.c:15:5:\u001b[m\u001b[K \u001b[01;31m\u001b[Kerror: \u001b[m\u001b[Kfor statement expected before ‘\u001b[01m\u001b[K{\u001b[m\u001b[K’ token\n",
            "     \u001b[01;31m\u001b[K{\u001b[m\u001b[K\n",
            "     \u001b[01;31m\u001b[K^\u001b[m\u001b[K\n",
            "/bin/bash: ./hello: No such file or directory\n"
          ],
          "name": "stdout"
        }
      ]
    },
    {
      "cell_type": "code",
      "metadata": {
        "id": "2RYdZf8ARR0B",
        "colab_type": "code",
        "colab": {
          "base_uri": "https://localhost:8080/",
          "height": 294
        },
        "outputId": "cf342efc-c266-4bca-83cb-592417006cd5"
      },
      "source": [
        "import matplotlib.pyplot as plt \n",
        "  \n",
        "# x axis values \n",
        "x = [1,2,3,4,8] \n",
        "# corresponding y axis values \n",
        "y = [38,125,207,240,458] \n",
        "  \n",
        "# plotting the points  \n",
        "plt.plot(x, y, marker='o', markerfacecolor='green', markersize=12) \n",
        "  \n",
        "# naming the x axis \n",
        "plt.xlabel('No of Threads') \n",
        "# naming the y axis \n",
        "plt.ylabel('Elapsed Time in micro sec') \n",
        "  \n",
        "# giving a title to my graph \n",
        "plt.title('openMP!') \n",
        "  \n",
        "# function to show the plot \n",
        "plt.show() "
      ],
      "execution_count": null,
      "outputs": [
        {
          "output_type": "display_data",
          "data": {
            "image/png": "[encoded data removed]",
            "text/plain": [
              "<Figure size 432x288 with 1 Axes>"
            ]
          },
          "metadata": {
            "tags": [],
            "needs_background": "light"
          }
        }
      ]
    }
  ]
}