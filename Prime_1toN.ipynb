{
  "nbformat": 4,
  "nbformat_minor": 0,
  "metadata": {
    "colab": {
      "name": "Prime_1toN.ipynb",
      "provenance": [],
      "collapsed_sections": [],
      "authorship_tag": "ABX9TyOpGd267JMjnX8eAhXd95Iq",
      "include_colab_link": true
    },
    "kernelspec": {
      "name": "python3",
      "display_name": "Python 3"
    }
  },
  "cells": [
    {
      "cell_type": "markdown",
      "metadata": {
        "id": "view-in-github",
        "colab_type": "text"
      },
      "source": [
        "<a href=\"https://colab.research.google.com/github/ShivamYadav09/PDC/blob/master/Prime_1toN.ipynb\" target=\"_parent\"><img src=\"https://colab.research.google.com/assets/colab-badge.svg\" alt=\"Open In Colab\"/></a>"
      ]
    },
    {
      "cell_type": "markdown",
      "metadata": {
        "id": "DwVa-hKXqWsq",
        "colab_type": "text"
      },
      "source": [
        "Refer to https://www.youtube.com/watch?v=TfWvqneV7Vw video for more help. Language is different though :( "
      ]
    },
    {
      "cell_type": "code",
      "metadata": {
        "id": "X2QCjdEsQkMl",
        "colab_type": "code",
        "colab": {}
      },
      "source": [
        "code = \"\"\"\n",
        "#include <stdio.h>\n",
        "#include <omp.h>\n",
        "#include <math.h>\n",
        "\n",
        "#define sieve_size 100000  //10^5\n",
        "\n",
        "int main(){\n",
        "  int n;\n",
        "  double start,end;\n",
        "  printf(\"enter limit: \");\n",
        "  scanf(\"%d\", &n);\n",
        "  int sieve[sieve_size]; \n",
        "  for(int i=0; i<sieve_size; ++i)\n",
        "    sieve[i] = 0;\n",
        "  sieve[0]=sieve[1]=1;\n",
        "  start = omp_get_wtime();\n",
        "  #pragma omp parallel for schedule(dynamic, 1)\n",
        "    for (int i=2; i<=(int)(n/2); ++i){\n",
        "      if(!sieve[i]){\n",
        "        //parallelizing inner for loop\n",
        "        //#pragma omp parallel for\n",
        "        for (int j=i*i; j<=n; j += i)\n",
        "          sieve[j] = 1;\n",
        "      }\n",
        "    }\n",
        "  end = omp_get_wtime();\n",
        "  printf(\"The time elapsed for dynamic version is = %f ms\",(end - start)*1000);\n",
        "  /*\n",
        "  for(int i=2; i<=n; ++i){\n",
        "    if(!sieve[i])\n",
        "      printf(\"%d \", i);\n",
        "    if(i%20 == 0)\n",
        "      printf(\" \");\n",
        "  }*/\n",
        "}\n",
        "\"\"\""
      ],
      "execution_count": null,
      "outputs": []
    },
    {
      "cell_type": "code",
      "metadata": {
        "id": "TZF_P4M6Q2Mp",
        "colab_type": "code",
        "colab": {}
      },
      "source": [
        "text_file = open(\"code.c\", \"w\")\n",
        "text_file.write(code)\n",
        "text_file.close()"
      ],
      "execution_count": null,
      "outputs": []
    },
    {
      "cell_type": "code",
      "metadata": {
        "id": "ncghH9RuRFY2",
        "colab_type": "code",
        "colab": {
          "base_uri": "https://localhost:8080/",
          "height": 67
        },
        "outputId": "d28ac81a-62a1-4048-81a1-0f7d72eb5999"
      },
      "source": [
        "%env OMP_NUM_THREADS=3\n",
        "!gcc -o prime -fopenmp code.c\n",
        "!./prime"
      ],
      "execution_count": null,
      "outputs": [
        {
          "output_type": "stream",
          "text": [
            "env: OMP_NUM_THREADS=3\n",
            "enter limit: 10000\n",
            "The time elapsed for dynamic version is = 0.283008 ms"
          ],
          "name": "stdout"
        }
      ]
    }
  ]
}