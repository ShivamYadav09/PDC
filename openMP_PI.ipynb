{
  "nbformat": 4,
  "nbformat_minor": 0,
  "metadata": {
    "colab": {
      "name": "openMP_PI.ipynb",
      "provenance": [],
      "authorship_tag": "ABX9TyPZF6TDUveHE0Y6qa4XWxpC",
      "include_colab_link": true
    },
    "kernelspec": {
      "name": "python3",
      "display_name": "Python 3"
    }
  },
  "cells": [
    {
      "cell_type": "markdown",
      "metadata": {
        "id": "view-in-github",
        "colab_type": "text"
      },
      "source": [
        "<a href=\"https://colab.research.google.com/github/ShivamYadav09/PDC/blob/master/openMP_PI.ipynb\" target=\"_parent\"><img src=\"https://colab.research.google.com/assets/colab-badge.svg\" alt=\"Open In Colab\"/></a>"
      ]
    },
    {
      "cell_type": "code",
      "metadata": {
        "id": "smTIz9tVkFh3",
        "colab_type": "code",
        "colab": {}
      },
      "source": [
        "code=\"\"\"\n",
        "#include <time.h>\n",
        "#include <omp.h>   \n",
        "#include <stdio.h>\n",
        "#include <stdlib.h>\n",
        "#include <math.h>\n",
        "\n",
        "#define DOTS 100000\n",
        "\n",
        "void pi_approx(){\n",
        "  int r = 180,x,y;\n",
        "  srand(time(0));\n",
        "  int n_c = 0;\n",
        "  float d;\n",
        "\n",
        "  clock_t start, end;\n",
        "  double cpu_time_used;\n",
        "     \n",
        "  start = clock();\n",
        "  #pragma omp parallel for\n",
        "  for (int i=0; i<DOTS; ++i){\n",
        "    x = rand()%(r+1);\n",
        "    y = rand()%(r+1);\n",
        "    d = pow((pow(x,2)+pow(y,2)),0.5);\n",
        "    if(i%10000 == 0)\n",
        "      printf(\"Dot placed by thread %d \\\\n\", omp_get_thread_num()); \n",
        "\n",
        "    if (d < r)\n",
        "      n_c ++;\n",
        "    \n",
        "  }\n",
        "  end = clock();\n",
        "  cpu_time_used = ((double) (end - start)) / CLOCKS_PER_SEC;\n",
        "  printf(\"CPU time used = %f \\\\n\", cpu_time_used);\n",
        "\n",
        "  float pi = (4*n_c)/(float)(DOTS);\n",
        "  printf(\"approx value of pi = %f\",pi);\n",
        "}\n",
        "\n",
        "int main(){\n",
        "  pi_approx();\n",
        "}\n",
        "\n",
        "\"\"\"\n",
        "\n"
      ],
      "execution_count": null,
      "outputs": []
    },
    {
      "cell_type": "code",
      "metadata": {
        "id": "G6JFK0OYpVXS",
        "colab_type": "code",
        "colab": {}
      },
      "source": [
        "text_file = open(\"code.c\", \"w\")\n",
        "text_file.write(code)\n",
        "text_file.close()"
      ],
      "execution_count": null,
      "outputs": []
    },
    {
      "cell_type": "code",
      "metadata": {
        "id": "ovioLQzNpaqw",
        "colab_type": "code",
        "colab": {
          "base_uri": "https://localhost:8080/",
          "height": 237
        },
        "outputId": "ee1011de-7a86-4f0f-ecb2-b15724cabab4"
      },
      "source": [
        "%env OMP_NUM_THREADS=3\n",
        "!gcc -o hello -fopenmp code.c -lm\n",
        "!./hello"
      ],
      "execution_count": null,
      "outputs": [
        {
          "output_type": "stream",
          "text": [
            "env: OMP_NUM_THREADS=3\n",
            "Dot placed by thread 0 \n",
            "Dot placed by thread 2 \n",
            "Dot placed by thread 0 \n",
            "Dot placed by thread 2 \n",
            "Dot placed by thread 0 \n",
            "Dot placed by thread 1 \n",
            "Dot placed by thread 0 \n",
            "Dot placed by thread 1 \n",
            "Dot placed by thread 2 \n",
            "Dot placed by thread 1 \n",
            "CPU time used = 0.019890 \n",
            "approx value of pi = 3.126400"
          ],
          "name": "stdout"
        }
      ]
    }
  ]
}