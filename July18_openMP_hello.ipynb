{
  "nbformat": 4,
  "nbformat_minor": 0,
  "metadata": {
    "colab": {
      "name": "July18_openMP_hello.ipynb",
      "provenance": [],
      "authorship_tag": "ABX9TyPGHb7jMBr9Y6bwhr1Nb+vm",
      "include_colab_link": true
    },
    "kernelspec": {
      "name": "python3",
      "display_name": "Python 3"
    }
  },
  "cells": [
    {
      "cell_type": "markdown",
      "metadata": {
        "id": "view-in-github",
        "colab_type": "text"
      },
      "source": [
        "<a href=\"https://colab.research.google.com/github/ShivamYadav09/PDC/blob/master/July18_openMP_hello.ipynb\" target=\"_parent\"><img src=\"https://colab.research.google.com/assets/colab-badge.svg\" alt=\"Open In Colab\"/></a>"
      ]
    },
    {
      "cell_type": "code",
      "metadata": {
        "id": "blop8fBu6uA5",
        "colab_type": "code",
        "colab": {}
      },
      "source": [
        "code = \"\"\"\n",
        "#include <time.h>\n",
        "// OpenMP header \n",
        "#include <omp.h>   \n",
        "#include <stdio.h>\n",
        "\n",
        "int main() \n",
        "{ \n",
        "         \n",
        "    clock_t start, end;\n",
        "    double cpu_time_used;\n",
        "     \n",
        "    start = clock();\n",
        "    // Beginning of parallel region \n",
        "    #pragma omp parallel \n",
        "    { \n",
        "        printf(\"Hello World... from thread = %d \\\\n\", omp_get_thread_num()); \n",
        "    } \n",
        "    // Ending of parallel region \n",
        "    end = clock();\n",
        "    cpu_time_used = ((double) (end - start)) / CLOCKS_PER_SEC;\n",
        "    printf(\"%f\", cpu_time_used);\n",
        "}\n",
        "\"\"\""
      ],
      "execution_count": null,
      "outputs": []
    },
    {
      "cell_type": "code",
      "metadata": {
        "id": "cOWULONl7Wq6",
        "colab_type": "code",
        "colab": {}
      },
      "source": [
        "text_file = open(\"code.c\", \"w\")\n",
        "text_file.write(code)\n",
        "text_file.close()"
      ],
      "execution_count": null,
      "outputs": []
    },
    {
      "cell_type": "code",
      "metadata": {
        "id": "aHkrJngU7ZIE",
        "colab_type": "code",
        "colab": {
          "base_uri": "https://localhost:8080/",
          "height": 136
        },
        "outputId": "6e366acd-a195-42ac-96f8-ded2738e3b7d"
      },
      "source": [
        "%env OMP_NUM_THREADS=5\n",
        "!gcc -o hello -fopenmp code.c\n",
        "!./hello"
      ],
      "execution_count": null,
      "outputs": [
        {
          "output_type": "stream",
          "text": [
            "env: OMP_NUM_THREADS=5\n",
            "Hello World... from thread = 1 \n",
            "Hello World... from thread = 2 \n",
            "Hello World... from thread = 3 \n",
            "Hello World... from thread = 4 \n",
            "Hello World... from thread = 0 \n",
            "0.000445"
          ],
          "name": "stdout"
        }
      ]
    }
  ]
}